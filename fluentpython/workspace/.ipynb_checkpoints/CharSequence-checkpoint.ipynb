{
 "cells": [
  {
   "cell_type": "markdown",
   "metadata": {},
   "source": [
    "# 文本和字节序列\n",
    "*人类使用文本，计算机使用字节序列*\n",
    "\n",
    "## 字符(Unicode)\n",
    "\n",
    "- 字符的标识（码位）: U+20AC (4～6个十六进制数)\n",
    "- 字符的字节表述 : 取决于所用编码(编码是码位与字节序列进行相互转换的算法)\n",
    "\n",
    "\n",
    "编码：将码位转换成字节序列；解码：将字节序列转换成码位"
   ]
  },
  {
   "cell_type": "code",
   "execution_count": null,
   "metadata": {},
   "outputs": [],
   "source": [
    "s = '中文'\n",
    "print(len(s))\n",
    "b = s.encode('utf8')\n",
    "print(b)\n",
    "print(len(b))\n",
    "print(b.decode('utf8'))"
   ]
  },
  {
   "cell_type": "markdown",
   "metadata": {},
   "source": [
    "bytes或bytearray对象的各个元素是介于0～255之间的整数。"
   ]
  },
  {
   "cell_type": "code",
   "execution_count": null,
   "metadata": {},
   "outputs": [],
   "source": [
    "b = bytes('中文', encoding='utf_8')\n",
    "print(b)\n",
    "print(b[0])\n",
    "print(b[:1])\n",
    "b_arr = bytearray(b)\n",
    "print(b_arr)\n",
    "print(b_arr[-1:])"
   ]
  },
  {
   "cell_type": "markdown",
   "metadata": {},
   "source": [
    "二进制序列的切片始终是同一类型的二进制序列，即使切片长度仅为1。\n",
    "\n",
    "```s[0] == s[:1]```只对str这个序列类型成立，对其他所有序列类型都不成立。"
   ]
  },
  {
   "cell_type": "code",
   "execution_count": null,
   "metadata": {},
   "outputs": [],
   "source": [
    "s = '中文'\n",
    "print(s[0] == s[:1])\n",
    "b = bytes(s, 'utf8')\n",
    "print(b[0] == b[:1])"
   ]
  }
 ],
 "metadata": {
  "kernelspec": {
   "display_name": "Python 3",
   "language": "python",
   "name": "python3"
  },
  "language_info": {
   "codemirror_mode": {
    "name": "ipython",
    "version": 3
   },
   "file_extension": ".py",
   "mimetype": "text/x-python",
   "name": "python",
   "nbconvert_exporter": "python",
   "pygments_lexer": "ipython3",
   "version": "3.5.0"
  }
 },
 "nbformat": 4,
 "nbformat_minor": 2
}
