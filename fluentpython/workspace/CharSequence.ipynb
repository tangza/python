{
 "cells": [
  {
   "cell_type": "markdown",
   "metadata": {},
   "source": [
    "# 文本和字节序列\n",
    "*人类使用文本，计算机使用字节序列*\n",
    "\n",
    "## 字符(Unicode)\n",
    "\n",
    "- 字符的标识（码位）: U+20AC (4～6个十六进制数)\n",
    "- 字符的字节表述 : 取决于所用编码(编码是码位与字节序列进行相互转换的算法)\n",
    "\n",
    "\n",
    "编码：将码位转换成字节序列；解码：将字节序列转换成码位"
   ]
  },
  {
   "cell_type": "code",
   "execution_count": null,
   "metadata": {},
   "outputs": [],
   "source": [
    "s = '中文'\n",
    "print(len(s))\n",
    "b = s.encode('utf8')\n",
    "print(b)\n",
    "print(len(b))\n",
    "print(b.decode('utf8'))"
   ]
  },
  {
   "cell_type": "markdown",
   "metadata": {},
   "source": [
    "bytes或bytearray对象的各个元素是介于0～255之间的整数。"
   ]
  },
  {
   "cell_type": "code",
   "execution_count": null,
   "metadata": {},
   "outputs": [],
   "source": [
    "b = bytes('中文', encoding='utf_8')\n",
    "print(b)\n",
    "print(b[0])\n",
    "print(b[:1])\n",
    "b_arr = bytearray(b)\n",
    "print(b_arr)\n",
    "print(b_arr[-1:])"
   ]
  },
  {
   "cell_type": "markdown",
   "metadata": {},
   "source": [
    "二进制序列的切片始终是同一类型的二进制序列，即使切片长度仅为1。\n",
    "\n",
    "```s[0] == s[:1]```只对str这个序列类型成立，对其他所有序列类型都不成立。"
   ]
  },
  {
   "cell_type": "code",
   "execution_count": null,
   "metadata": {},
   "outputs": [],
   "source": [
    "s = '中文'\n",
    "print(s[0] == s[:1])\n",
    "b = bytes(s, 'utf8')\n",
    "print(b[0] == b[:1])"
   ]
  },
  {
   "cell_type": "markdown",
   "metadata": {},
   "source": [
    "二进制序列(整数序列)的字面量表示法:\n",
    "- 可打印的ASCII范围内字节（从空格到～），使用ASCII字符\n",
    "- 制表符，换行符，回车符和\\对应的字节，使用转义序列\\t,\\n,\\r和\\\\\n",
    "- 其他字节的值，使用十六进制转义序列（ex. \\x00表示空字节）"
   ]
  },
  {
   "cell_type": "markdown",
   "metadata": {},
   "source": [
    "利用缓冲类对象构建二进制序列是一种底层操作，可能涉及类型转换"
   ]
  },
  {
   "cell_type": "code",
   "execution_count": null,
   "metadata": {},
   "outputs": [],
   "source": [
    "import array\n",
    "arr = array.array('h', [-2, -1, 0, 1, 2]) #h indicates short integer\n",
    "b = bytes(arr)\n",
    "print(b)"
   ]
  },
  {
   "cell_type": "markdown",
   "metadata": {},
   "source": [
    "## 基本的编解码器\n",
    "Python自带了超过100种编解码器（codec，decoder/encoder），用于文本和字节的相互转换。\n",
    "\n",
    "每个编解码器都有个名称，如utf_8，而且通常有几个别名，如utf-8,utf8,U8。可以传给open(),str.encode(),bytes.decode()。"
   ]
  },
  {
   "cell_type": "markdown",
   "metadata": {},
   "source": [
    "## 编码问题\n",
    "- 不正确的编码方式：UnicodeEncodeError\n",
    "- 不匹配的解码方式：UnicodeDecodeError\n",
    "- 预期之外的编码加载模块：SyntaxError 编码源码时，python3 default utf8, python2 default ASCII(这时需要在文件顶部显式的添加coding注释)"
   ]
  },
  {
   "cell_type": "code",
   "execution_count": null,
   "metadata": {},
   "outputs": [],
   "source": [
    "s = '中文'\n",
    "try:\n",
    "    s.encode('latin1') #default is 'strict', throw UnicodeEncodeError when encode failed\n",
    "except UnicodeEncodeError:\n",
    "    print('UnicodeEncodeError')\n",
    "print(s.encode('latin1', errors = 'ignore'))\n",
    "print(s.encode('latin1', errors = 'replace'))\n",
    "print(s.encode('latin1', errors = 'xmlcharrefreplace'))"
   ]
  },
  {
   "cell_type": "markdown",
   "metadata": {},
   "source": [
    "### 如何找出字节序列的编码\n",
    "除非有人告诉你，否则只能通过试探和分析来推测文件编码\n",
    "\n",
    "统一字符编码侦测包Chardet能识别支持的30种编码，Chardet是一个python库，但也提供了命令行工具chardetect"
   ]
  },
  {
   "cell_type": "markdown",
   "metadata": {},
   "source": [
    "### 字节序标记BOM（Byte Order Mark）\n",
    "UTF格式可以在文本开头添加不可见的字符U+FEFF来表明字节顺序，不带BOM的话UTF16默认用大字节序\n",
    "- 小字节序UTF16-LE 低位在前b'\\xFF\\xFE'，Intel x86采用小字节序\n",
    "- 大字节序UTF16-BE 高位在前b'\\xFE\\xFF'\n",
    "\n",
    "字节序只与多字节编码有关系，单字节编码的UTF8生成的字节序始终保持一致，因此不用BOM(Windows应用有时会添加b'\\xEF\\xBB\\BF'来判定UTF8编码)"
   ]
  }
 ],
 "metadata": {
  "kernelspec": {
   "display_name": "Python 3",
   "language": "python",
   "name": "python3"
  },
  "language_info": {
   "codemirror_mode": {
    "name": "ipython",
    "version": 3
   },
   "file_extension": ".py",
   "mimetype": "text/x-python",
   "name": "python",
   "nbconvert_exporter": "python",
   "pygments_lexer": "ipython3",
   "version": "3.6.5"
  }
 },
 "nbformat": 4,
 "nbformat_minor": 2
}
