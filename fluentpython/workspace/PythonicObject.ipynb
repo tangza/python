{
 "cells": [
  {
   "cell_type": "markdown",
   "metadata": {},
   "source": [
    "# 符合Python风格的对象\n",
    "\n",
    "自定义类型的行为可以像内置类型那样自然，得益于Python的数据模型。\n",
    "\n",
    "实现这样自然的行为，靠的不是继承，而是鸭子类型(duck typing)：我们只需按照预订行为实现对象所需方法即可。"
   ]
  },
  {
   "cell_type": "markdown",
   "metadata": {},
   "source": [
    "## 对象表示形式\n",
    "\n",
    "repr(): 以便于开发者理解的方式返回对象的字符串表示形式；对应`__repr__`\n",
    "\n",
    "str(): 以便于用户理解的方式返回对象的字符串表示形式；对应`__str__`"
   ]
  },
  {
   "cell_type": "code",
   "execution_count": null,
   "metadata": {},
   "outputs": [],
   "source": [
    "from array import array\n",
    "import math\n",
    "\n",
    "class Vector2d:\n",
    "    __slots__ = ('__x', '__y')\n",
    "    \n",
    "    typecode = 'd'\n",
    "    \n",
    "    def __init__(self, x, y):\n",
    "        self.__x = float(x)\n",
    "        self.__y = float(y)\n",
    "    \n",
    "    @property\n",
    "    def x(self):\n",
    "        return self.__x\n",
    "    \n",
    "    @property\n",
    "    def y(self):\n",
    "        return self.__y\n",
    "    \n",
    "    def __iter__(self):\n",
    "        return (i for i in (self.x, self.y))\n",
    "    \n",
    "    def __repr__(self):\n",
    "        class_name = type(self).__name__\n",
    "        return '{}({!r}, {!r})'.format(class_name, *self)\n",
    "    \n",
    "    def __str__(self):\n",
    "        return str(tuple(self))\n",
    "    \n",
    "    def __bytes__(self):\n",
    "        return (bytes([ord(self.typecode)]) + bytes(array(self.typecode, self)))\n",
    "    \n",
    "    def __eq__(self, other):\n",
    "        return tuple(self) == tuple(other)\n",
    "    \n",
    "    def __hash__(self):\n",
    "        return hash(self.x) ^ hash(self.y)\n",
    "    \n",
    "    def __abs__(self):\n",
    "        return math.hypot(self.x, self.y)\n",
    "    \n",
    "    def __bool__(self):\n",
    "        return bool(abs(self))\n",
    "\n",
    "    @classmethod\n",
    "    def frombytes(cls, octets):\n",
    "        typecode = chr(octets[0])\n",
    "        memv = memoryview(octets[1:]).cast(typecode)\n",
    "        return cls(*memv)\n",
    "    \n",
    "    def angle(self):\n",
    "        return math.atan2(self.y, self.x)\n",
    "    \n",
    "    def __format__(self, fmt_spec=''):\n",
    "        if fmt_spec.endswith('p'):\n",
    "            fmt_spec = fmt_spec[:-1]\n",
    "            coords = (abs(self), self.angle())\n",
    "            outer_fmt = '<{}, {}>'\n",
    "        else:\n",
    "            coords = self\n",
    "            outer_fmt = '({}, {})'\n",
    "        components = (format(c, fmt_spec) for c in coords)\n",
    "        return outer_fmt.format(*components)\n",
    "\n",
    "v = Vector2d(3, 4)\n",
    "print(repr(v))\n",
    "print(v)\n",
    "print(*v)\n",
    "print(bool(v))\n",
    "print(abs(v))\n",
    "print(v == (3, 4))\n",
    "print(format(v, '.3ep'))\n",
    "print(hash(v))\n",
    "set([v])\n",
    "print(v.__slots__)\n",
    "print(dir(v))"
   ]
  },
  {
   "cell_type": "markdown",
   "metadata": {},
   "source": [
    "## classmethod与staticmethod\n",
    "\n",
    "classmethod: 定义操作类，而不是操作实例的方法。\n",
    "\n",
    "类方法改变了调用方法的方式，第一个参数是类本身，而不是实例。classmethod最常见用途是定义备选构造方法，第一个参数约定名称为cls。\n",
    "\n",
    "staticmethod: 定义在类中的普通函数。\n",
    "\n",
    "静态方法也改变了调用方法的方式，但第一个参数不是特殊的值。它就是一个定义在类中，而不是模块中的普通函数。"
   ]
  },
  {
   "cell_type": "code",
   "execution_count": null,
   "metadata": {},
   "outputs": [],
   "source": [
    "class Demo:\n",
    "    @classmethod\n",
    "    def klassmeth(*args):\n",
    "        return args\n",
    "    \n",
    "    @staticmethod\n",
    "    def staticmeth(*args):\n",
    "        return args\n",
    "print(Demo.klassmeth())\n",
    "print(Demo.klassmeth(1))\n",
    "print(Demo.staticmeth())\n",
    "print(Demo.staticmeth(2))"
   ]
  },
  {
   "cell_type": "markdown",
   "metadata": {},
   "source": [
    "## 格式化显示\n",
    "\n",
    "内置的format()函数和str.format()方法把各个类型的格式化方式委托给相应的`.__format__(format_spec)`方法。format_spec是格式说明符：\n",
    "\n",
    "- format(myobj, format_spec)的第二个参数\n",
    "- str.format()方法里的格式化字符串，{}里代换字段中：后面的部分。\n",
    "\n",
    "格式说明符使用的表示法是格式规范微语言\n"
   ]
  },
  {
   "cell_type": "markdown",
   "metadata": {},
   "source": [
    "## Python的私有属性和“受保护的”属性\n",
    "\n",
    "Python不像Java那样使用private修饰符创建私有属性，但是有个简单机制，能够避免子类意外覆盖“私有”属性。\n",
    "\n",
    "如果以`__mood`（双前导下划线，尾部没有或只有一个下划线）形式命名实例属性，Python会将属性名存入`__dict__`中，并在前面加上一个下划线和类名。\n",
    "\n",
    "这叫做名称改写，只是一个保护措施，并不能真的保证安全。\n",
    "\n",
    "也有人约定使用一个前导下划线定义受保护的属性，Python不会对单下划线的属性名做特殊处理。"
   ]
  },
  {
   "cell_type": "markdown",
   "metadata": {},
   "source": [
    "## 使用`__slots__`类属性节省空间\n",
    "\n",
    "Python默认在各个实例中名为`__dict__`的字典里存储实例属性。因为字典使用底层的散列表提升访问速度，故消耗大量内存。\n",
    "\n",
    "如果处理大量的属性不多的实例，通过`__slots__`类属性，能节省大量内存。它会让解释器在元组中存储实例属性，而不用字典。\n",
    "\n",
    "继承自超类的`__slots__`属性没有效果，Python只会使用各个类中定义的`__slots__`属性。\n",
    "\n",
    "在类中定义`__slots__`属性的目的是告诉解释器：这个类中的所有实例属性都在这儿了！因而Python会在各个实例中使用类似元组的结构存储实例变量。\n",
    "\n",
    "若要让实例可以作为weakref的目标，需要将`__weakref__`加入到`__slots__`中。"
   ]
  },
  {
   "cell_type": "markdown",
   "metadata": {},
   "source": [
    "## 覆盖类属性\n",
    "\n",
    "Python有个独特特性：类属性可用于为实例属性提供默认值。\n",
    "\n",
    "当为不存在的实例属性赋值时，会新建实例属性，所以类属性可以被实例定制化。\n",
    "\n",
    "若要改变类属性的默认值，常见做法是用拓展子类改变默认类属性的值。"
   ]
  }
 ],
 "metadata": {
  "kernelspec": {
   "display_name": "Python 3",
   "language": "python",
   "name": "python3"
  },
  "language_info": {
   "codemirror_mode": {
    "name": "ipython",
    "version": 3
   },
   "file_extension": ".py",
   "mimetype": "text/x-python",
   "name": "python",
   "nbconvert_exporter": "python",
   "pygments_lexer": "ipython3",
   "version": "3.5.0"
  }
 },
 "nbformat": 4,
 "nbformat_minor": 2
}
