{
 "cells": [
  {
   "cell_type": "markdown",
   "metadata": {},
   "source": [
    "# 一等函数\n",
    "在Python中，函数是一等对象。编程语言理论家对“一等对象”的定义为满足以下条件的程序实体：\n",
    "- 在运行时创建\n",
    "- 能赋值给变量或数据结构中的元素\n",
    "- 能作为参数传给函数\n",
    "- 能作为函数的返回结果\n",
    "\n",
    "## 把函数视作对象\n",
    "函数是function类的实例\n",
    "## 高阶函数\n",
    "有了一等函数，就可以使用函数式风格编程，函数式风格的特点之一：使用高阶函数\n",
    "\n",
    "高阶函数：接收函数作为参数，或者把函数作为返回结果的函数\n",
    "\n",
    "Python中的map,reduce,filter高阶函数有更合适的替代品\n",
    "\n",
    "归约函数：将某个操作连续应用到序列的元素上，累计之前的结果（all, any, sum, reduce）\n",
    "## 匿名函数\n",
    "lambda关键字用于在Python表达式内部创建匿名函数\n",
    "\n",
    "lambda句法只是语法糖：与def语句一样，lambda表达式会创建函数对象。\n",
    "## 可调用对象\n",
    "_内置函数callable()用于判断对象是否可调用_\n",
    "\n",
    "Python数据模型文档列出了7种可调用对象：\n",
    "- 用户自定义函数：使用def或lambda创建\n",
    "- 内置函数：使用C语言实现的函数\n",
    "- 内置方法：使用C语言实现的方法\n",
    "- 方法：在类的定义体中定义的方法\n",
    "- 类：调用类时运行\\_\\_new\\_\\_()创建实例，然后运行\\_\\_init\\_\\_()初始化实例并返回调用方\n",
    "- 类的实例：如果类定义了\\_\\_call\\_\\_()，则该类的实例可以作为函数调用\n",
    "- 生成器函数：使用yield关键字的函数或方法。调用生成器函数返回的是生成器对象\n",
    "\n",
    "类的实例通过实现\\_\\_callable\\_\\_(self)成为可调用对象。故可作为创建保有内部状态的函数的一种方式（装饰器），另一种方式是使用闭包。\n",
    "\n",
    "仅限关键字参数：定义函数时将参数放到带\\*参数后定义，则该参数只能通过关键字指定"
   ]
  },
  {
   "cell_type": "code",
   "execution_count": null,
   "metadata": {},
   "outputs": [],
   "source": [
    "def f(a, *, b=10):\n",
    "    return a, b\n",
    "f(1, b=2)"
   ]
  },
  {
   "cell_type": "markdown",
   "metadata": {},
   "source": [
    "使用inspect模块来获取参数信息，signature对象有parameters有序映射，对应参数名和Parameter对象\n",
    "\n",
    "Parameter属性有自己的属性：name,default,kind。没有默认值用inspect.\\_empty表示（为了区分None默认值）\n",
    "\n",
    "Kind属性值是_ParameterKind类中的5个值之一：\n",
    "1. POSITION_OR_KEYWORD 可以通过定位参数和关键字参数传入的形参\n",
    "2. VAR_POSITIONAL 定位参数元祖\n",
    "3. VAR_KEYWORD 关键字参数字典\n",
    "4. KEYWORD_ONLY 仅限关键字参数（Python3新增）\n",
    "5. POSITIONAL_ONLY 仅限定位参数；Python语法不支持\n",
    "\n",
    "Signature.bind方法可以按照实参到形参的匹配规则，将任意个参数绑定到签名中的形参上。框架可以利用它来做参数验证"
   ]
  },
  {
   "cell_type": "code",
   "execution_count": null,
   "metadata": {},
   "outputs": [],
   "source": [
    "from inspect import signature\n",
    "sig = signature(f)\n",
    "print(sig)\n",
    "for name, param in sig.parameters.items():\n",
    "    print(param.kind, ':', name, '=', param.default)"
   ]
  },
  {
   "cell_type": "markdown",
   "metadata": {},
   "source": [
    "## 函数注解\n",
    "Python3提供一种句法，用于为函数声明中的参数和返回值附加元数据\n",
    "\n",
    "参数在：之后增加注解表达式，返回值为)->注解:形式。注解表达式可以是任意类型，常用的为类和字符串\n",
    "\n",
    "注解不会做任何处理，只是元数据，存放在函数的\\_\\_anotations\\_\\_属性里，可供IDE、框架、装饰器等工具使用。\n",
    "\n",
    "inspect.Signature.return_annotation和inspect.Parameter.annotation可以获取注解\n",
    "\n",
    "## 支持函数式编程的包\n",
    "operator包\n",
    "\n",
    "- add, mul...\n",
    "- itemgetter, attrgetter\n",
    "- methodcaller\n",
    "\n",
    "functools.partial冻结参数\n"
   ]
  },
  {
   "cell_type": "code",
   "execution_count": null,
   "metadata": {},
   "outputs": [],
   "source": [
    "from functools import partial\n",
    "import unicodedata\n",
    "\n",
    "nfc = partial(unicodedata.normalize, 'NFC')\n",
    "s1 = 'cafe\\u0301'\n",
    "s2 = 'café'\n",
    "print(s1 == s2)\n",
    "print(nfc(s1) == nfc(s2))"
   ]
  }
 ],
 "metadata": {
  "kernelspec": {
   "display_name": "Python 3",
   "language": "python",
   "name": "python3"
  },
  "language_info": {
   "codemirror_mode": {
    "name": "ipython",
    "version": 3
   },
   "file_extension": ".py",
   "mimetype": "text/x-python",
   "name": "python",
   "nbconvert_exporter": "python",
   "pygments_lexer": "ipython3",
   "version": "3.6.5"
  }
 },
 "nbformat": 4,
 "nbformat_minor": 2
}
