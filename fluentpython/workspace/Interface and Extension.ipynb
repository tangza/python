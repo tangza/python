{
 "cells": [
  {
   "cell_type": "markdown",
   "metadata": {},
   "source": [
    "# 接口：从协议到抽象基类\n",
    "\n",
    "Python社区以往对接口的不严谨理解：部分实现接口通常被认为是可接受的\n",
    "\n",
    "不建议自己编写抽象基类，因为很容易过度设计\n",
    "\n",
    "抽象基类与装饰器和元类一样，是用于构建框架的工具"
   ]
  },
  {
   "cell_type": "markdown",
   "metadata": {},
   "source": [
    "## Python文化中的接口和协议\n",
    "\n",
    "我们把协议定义为非正式的接口，是Python这种动态类型语言用来实现多态的方式\n",
    "\n",
    "Python语言每个类都有接口：类实现或继承的**公开**属性（包括数据和方法属性），包括特殊方法，如`__getitem__`\n",
    "\n",
    "接口的补充定义：对象公开方法的子集，让对象在系统中扮演特定的角色。接口是实现特定角色的方法集合--这正如协议的定义\n",
    "\n",
    "对Python程序员来说，X类对象，X接口，X协议都是一个意思"
   ]
  },
  {
   "cell_type": "markdown",
   "metadata": {},
   "source": [
    "每个Python方法说到底都只是普通函数，第一个参数命名为self只是约定\n",
    "\n",
    "猴子补丁：在运行时修改类或模块，而不改动源码"
   ]
  },
  {
   "cell_type": "markdown",
   "metadata": {},
   "source": [
    "# 继承的优缺点\n",
    "\n",
    "对Python尤为重要的两个细节：\n",
    "\n",
    "- 子类化内置类型的缺点\n",
    "- 多重继承和方法解析顺序\n",
    "\n",
    "子类化内置类型（C实现）时，方法委托通常会忽略用户覆盖的方法，而子类化Python编写的类就没有这个问题\n",
    "\n",
    "实现多重继承时必然要面对的“菱形问题”：不同祖类实现了同名的方法\n",
    "\n",
    "Python可以通过类名限定方法调用来避免这种歧义（specSup.method(subinstance)）\n",
    "\n",
    "Python的多重继承方法查找顺序是可知的，MRO（Method Resolution Order），每个对象都有内置的`__mro__`属性可以查看方法解析顺序"
   ]
  },
  {
   "cell_type": "markdown",
   "metadata": {},
   "source": [
    "## 使用继承的良好习惯\n",
    "\n",
    "- 把接口继承和实现继承区分开\n",
    "- 使用抽象基类显示表示接口\n",
    "- 通过混入(mixin)重用代码：混入不定义新类型，只打包方法，便于多个子类重用。混入不能作为唯一超类使用\n",
    "- 在名称中明确指明混入\n",
    "- 抽象基类可以作为混入，反过来则不成立\n",
    "- 不要子类化多个具体类\n",
    "- 为用户提供聚合类\n",
    "- 优先使用对象组合，而不是类继承\n",
    " - 组合和委托可以代替混入，把行为提供给不同的类，但不能取代接口继承去定义类型层次结构"
   ]
  },
  {
   "cell_type": "markdown",
   "metadata": {},
   "source": [
    "# 正确重载运算符\n",
    "\n",
    "运算符重载的作用是让用户定义的对象使用中缀运算符（如+、|）和一元运算符（如-和~）\n",
    "\n",
    "宽泛了讲，Python中的函数调用（()），属性访问（.）和元素访问/切片（`[]`）也是运算符\n",
    "\n",
    "本章讨论的目标：\n",
    "- Python如何处理中缀运算符中不同类型的操作数\n",
    "- 使用鸭子类型或显示类型检查处理不同类型的操作数\n",
    "- 中缀运算符如何表明自己无法处理操作数\n",
    "- 众多比较运算符（如==、>、<=等）的特殊行为\n",
    "- 增量赋值（如+=）运算符的默认处理方式和重载方式"
   ]
  },
  {
   "cell_type": "markdown",
   "metadata": {},
   "source": [
    "## 运算符重载基础\n",
    "\n",
    "Python为了做好灵活性、可用性和安全性的平衡，施加了如下限制：\n",
    "\n",
    "- 不能重载内置类型的运算符\n",
    "- 不能新建运算符，只能重载现有的\n",
    "- 某些运算符不能重载——is、and、or和not\n",
    "\n",
    "一元运算符\n",
    "+ `+ __pos__`\n",
    "+ `- __neg__`\n",
    "+ `abs() __abs__`\n",
    "+ `~ __invert__`\n"
   ]
  }
 ],
 "metadata": {
  "kernelspec": {
   "display_name": "Python 3",
   "language": "python",
   "name": "python3"
  },
  "language_info": {
   "codemirror_mode": {
    "name": "ipython",
    "version": 3
   },
   "file_extension": ".py",
   "mimetype": "text/x-python",
   "name": "python",
   "nbconvert_exporter": "python",
   "pygments_lexer": "ipython3",
   "version": "3.5.0"
  }
 },
 "nbformat": 4,
 "nbformat_minor": 2
}
